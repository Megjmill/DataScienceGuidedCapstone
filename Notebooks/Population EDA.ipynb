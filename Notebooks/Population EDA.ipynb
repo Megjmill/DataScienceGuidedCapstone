{
 "cells": [
  {
   "cell_type": "code",
   "execution_count": 1,
   "id": "68dabe97-ea33-407b-baf5-c733f1c2d944",
   "metadata": {},
   "outputs": [
    {
     "data": {
      "text/html": [
       "<div>\n",
       "<style scoped>\n",
       "    .dataframe tbody tr th:only-of-type {\n",
       "        vertical-align: middle;\n",
       "    }\n",
       "\n",
       "    .dataframe tbody tr th {\n",
       "        vertical-align: top;\n",
       "    }\n",
       "\n",
       "    .dataframe thead th {\n",
       "        text-align: right;\n",
       "    }\n",
       "</style>\n",
       "<table border=\"1\" class=\"dataframe\">\n",
       "  <thead>\n",
       "    <tr style=\"text-align: right;\">\n",
       "      <th></th>\n",
       "      <th>realtime_start</th>\n",
       "      <th>value</th>\n",
       "      <th>date</th>\n",
       "      <th>realtime_end</th>\n",
       "    </tr>\n",
       "  </thead>\n",
       "  <tbody>\n",
       "    <tr>\n",
       "      <th>0</th>\n",
       "      <td>2019-12-06</td>\n",
       "      <td>156309.0</td>\n",
       "      <td>1952-01-01</td>\n",
       "      <td>2019-12-06</td>\n",
       "    </tr>\n",
       "    <tr>\n",
       "      <th>1</th>\n",
       "      <td>2019-12-06</td>\n",
       "      <td>156527.0</td>\n",
       "      <td>1952-02-01</td>\n",
       "      <td>2019-12-06</td>\n",
       "    </tr>\n",
       "    <tr>\n",
       "      <th>2</th>\n",
       "      <td>2019-12-06</td>\n",
       "      <td>156731.0</td>\n",
       "      <td>1952-03-01</td>\n",
       "      <td>2019-12-06</td>\n",
       "    </tr>\n",
       "    <tr>\n",
       "      <th>3</th>\n",
       "      <td>2019-12-06</td>\n",
       "      <td>156943.0</td>\n",
       "      <td>1952-04-01</td>\n",
       "      <td>2019-12-06</td>\n",
       "    </tr>\n",
       "    <tr>\n",
       "      <th>4</th>\n",
       "      <td>2019-12-06</td>\n",
       "      <td>157140.0</td>\n",
       "      <td>1952-05-01</td>\n",
       "      <td>2019-12-06</td>\n",
       "    </tr>\n",
       "  </tbody>\n",
       "</table>\n",
       "</div>"
      ],
      "text/plain": [
       "  realtime_start     value        date realtime_end\n",
       "0     2019-12-06  156309.0  1952-01-01   2019-12-06\n",
       "1     2019-12-06  156527.0  1952-02-01   2019-12-06\n",
       "2     2019-12-06  156731.0  1952-03-01   2019-12-06\n",
       "3     2019-12-06  156943.0  1952-04-01   2019-12-06\n",
       "4     2019-12-06  157140.0  1952-05-01   2019-12-06"
      ]
     },
     "execution_count": 1,
     "metadata": {},
     "output_type": "execute_result"
    }
   ],
   "source": [
    "import numpy as np \n",
    "import pandas as pd\n",
    "from statsmodels.tsa.stattools import adfuller\n",
    "from statsmodels.tsa.stattools import acf, pacf\n",
    "from statsmodels.tsa.seasonal import seasonal_decompose\n",
    "from statsmodels.tsa.arima_model import ARIMA\n",
    "from matplotlib.pylab import rcParams\n",
    "rcParams['figure.figsize'] = 10, 6\n",
    "\n",
    "df = pd.read_csv('POP.csv')\n",
    "df.head()"
   ]
  },
  {
   "cell_type": "code",
   "execution_count": 3,
   "id": "75078799-6b16-40c3-8941-c8fee9abd16f",
   "metadata": {},
   "outputs": [
    {
     "data": {
      "text/html": [
       "<div>\n",
       "<style scoped>\n",
       "    .dataframe tbody tr th:only-of-type {\n",
       "        vertical-align: middle;\n",
       "    }\n",
       "\n",
       "    .dataframe tbody tr th {\n",
       "        vertical-align: top;\n",
       "    }\n",
       "\n",
       "    .dataframe thead th {\n",
       "        text-align: right;\n",
       "    }\n",
       "</style>\n",
       "<table border=\"1\" class=\"dataframe\">\n",
       "  <thead>\n",
       "    <tr style=\"text-align: right;\">\n",
       "      <th></th>\n",
       "      <th>date</th>\n",
       "      <th>value</th>\n",
       "    </tr>\n",
       "  </thead>\n",
       "  <tbody>\n",
       "    <tr>\n",
       "      <th>0</th>\n",
       "      <td>1952-01-01</td>\n",
       "      <td>156309.0</td>\n",
       "    </tr>\n",
       "    <tr>\n",
       "      <th>1</th>\n",
       "      <td>1952-02-01</td>\n",
       "      <td>156527.0</td>\n",
       "    </tr>\n",
       "    <tr>\n",
       "      <th>2</th>\n",
       "      <td>1952-03-01</td>\n",
       "      <td>156731.0</td>\n",
       "    </tr>\n",
       "    <tr>\n",
       "      <th>3</th>\n",
       "      <td>1952-04-01</td>\n",
       "      <td>156943.0</td>\n",
       "    </tr>\n",
       "    <tr>\n",
       "      <th>4</th>\n",
       "      <td>1952-05-01</td>\n",
       "      <td>157140.0</td>\n",
       "    </tr>\n",
       "  </tbody>\n",
       "</table>\n",
       "</div>"
      ],
      "text/plain": [
       "         date     value\n",
       "0  1952-01-01  156309.0\n",
       "1  1952-02-01  156527.0\n",
       "2  1952-03-01  156731.0\n",
       "3  1952-04-01  156943.0\n",
       "4  1952-05-01  157140.0"
      ]
     },
     "execution_count": 3,
     "metadata": {},
     "output_type": "execute_result"
    }
   ],
   "source": [
    "df = df[['date', 'value']]\n",
    "df.head()"
   ]
  },
  {
   "cell_type": "code",
   "execution_count": 4,
   "id": "52b0cdfe-d5db-4040-a4d9-86a5dbdc067d",
   "metadata": {},
   "outputs": [
    {
     "data": {
      "text/plain": [
       "811    2019-08-01\n",
       "812    2019-09-01\n",
       "813    2019-10-01\n",
       "814    2019-11-01\n",
       "815    2019-12-01\n",
       "Name: date, dtype: object"
      ]
     },
     "execution_count": 4,
     "metadata": {},
     "output_type": "execute_result"
    }
   ],
   "source": [
    "df.date.tail()"
   ]
  },
  {
   "cell_type": "code",
   "execution_count": 5,
   "id": "240b6784-b7de-47e2-9bcc-231ab3c534d1",
   "metadata": {},
   "outputs": [
    {
     "name": "stdout",
     "output_type": "stream",
     "text": [
      "Number of NaN values: 0\n"
     ]
    },
    {
     "data": {
      "text/plain": [
       "False"
      ]
     },
     "execution_count": 5,
     "metadata": {},
     "output_type": "execute_result"
    }
   ],
   "source": [
    "nan_count = df.isnull().sum().sum()\n",
    "print('Number of NaN values:', nan_count)\n",
    "\n",
    "df.isnull(). values. any() "
   ]
  },
  {
   "cell_type": "code",
   "execution_count": 6,
   "id": "40835d63-ba23-45e1-8a7d-7f128c922115",
   "metadata": {},
   "outputs": [
    {
     "data": {
      "text/html": [
       "<div>\n",
       "<style scoped>\n",
       "    .dataframe tbody tr th:only-of-type {\n",
       "        vertical-align: middle;\n",
       "    }\n",
       "\n",
       "    .dataframe tbody tr th {\n",
       "        vertical-align: top;\n",
       "    }\n",
       "\n",
       "    .dataframe thead th {\n",
       "        text-align: right;\n",
       "    }\n",
       "</style>\n",
       "<table border=\"1\" class=\"dataframe\">\n",
       "  <thead>\n",
       "    <tr style=\"text-align: right;\">\n",
       "      <th></th>\n",
       "      <th>population</th>\n",
       "      <th>date</th>\n",
       "    </tr>\n",
       "  </thead>\n",
       "  <tbody>\n",
       "    <tr>\n",
       "      <th>0</th>\n",
       "      <td>156309.0</td>\n",
       "      <td>1952-01-01</td>\n",
       "    </tr>\n",
       "    <tr>\n",
       "      <th>1</th>\n",
       "      <td>156527.0</td>\n",
       "      <td>1952-02-01</td>\n",
       "    </tr>\n",
       "    <tr>\n",
       "      <th>2</th>\n",
       "      <td>156731.0</td>\n",
       "      <td>1952-03-01</td>\n",
       "    </tr>\n",
       "    <tr>\n",
       "      <th>3</th>\n",
       "      <td>156943.0</td>\n",
       "      <td>1952-04-01</td>\n",
       "    </tr>\n",
       "    <tr>\n",
       "      <th>4</th>\n",
       "      <td>157140.0</td>\n",
       "      <td>1952-05-01</td>\n",
       "    </tr>\n",
       "  </tbody>\n",
       "</table>\n",
       "</div>"
      ],
      "text/plain": [
       "   population       date\n",
       "0    156309.0 1952-01-01\n",
       "1    156527.0 1952-02-01\n",
       "2    156731.0 1952-03-01\n",
       "3    156943.0 1952-04-01\n",
       "4    157140.0 1952-05-01"
      ]
     },
     "execution_count": 6,
     "metadata": {},
     "output_type": "execute_result"
    }
   ],
   "source": [
    "df.date = pd.to_datetime(df.date)\n",
    "df['population']=df['value']\n",
    "df = df[['population', 'date']]\n",
    "df.head()"
   ]
  },
  {
   "cell_type": "code",
   "execution_count": 7,
   "id": "eebe4833-b82c-444b-a317-a4b2adab522e",
   "metadata": {},
   "outputs": [],
   "source": [
    "import matplotlib.pyplot as plt"
   ]
  },
  {
   "cell_type": "code",
   "execution_count": 8,
   "id": "ddfb625b-b2d9-4173-9f99-67ab09634990",
   "metadata": {},
   "outputs": [
    {
     "data": {
      "text/plain": [
       "[<matplotlib.lines.Line2D at 0x1e76595e090>]"
      ]
     },
     "execution_count": 8,
     "metadata": {},
     "output_type": "execute_result"
    },
    {
     "data": {
      "image/png": "[encoded data removed]",
      "text/plain": [
       "<Figure size 1000x600 with 1 Axes>"
      ]
     },
     "metadata": {},
     "output_type": "display_data"
    }
   ],
   "source": [
    "plt.plot(df.date, df.population)"
   ]
  },
  {
   "cell_type": "code",
   "execution_count": 9,
   "id": "8612c944-975a-4c6c-8e80-b6d9be7cb5b4",
   "metadata": {},
   "outputs": [
    {
     "data": {
      "text/plain": [
       "816"
      ]
     },
     "execution_count": 9,
     "metadata": {},
     "output_type": "execute_result"
    }
   ],
   "source": [
    "len(df)"
   ]
  },
  {
   "cell_type": "code",
   "execution_count": 10,
   "id": "9484d31e-7f0b-40e6-bd21-a9411275ed09",
   "metadata": {},
   "outputs": [
    {
     "data": {
      "text/html": [
       "<div>\n",
       "<style scoped>\n",
       "    .dataframe tbody tr th:only-of-type {\n",
       "        vertical-align: middle;\n",
       "    }\n",
       "\n",
       "    .dataframe tbody tr th {\n",
       "        vertical-align: top;\n",
       "    }\n",
       "\n",
       "    .dataframe thead th {\n",
       "        text-align: right;\n",
       "    }\n",
       "</style>\n",
       "<table border=\"1\" class=\"dataframe\">\n",
       "  <thead>\n",
       "    <tr style=\"text-align: right;\">\n",
       "      <th></th>\n",
       "      <th>population</th>\n",
       "      <th>date</th>\n",
       "    </tr>\n",
       "  </thead>\n",
       "  <tbody>\n",
       "    <tr>\n",
       "      <th>count</th>\n",
       "      <td>816.000000</td>\n",
       "      <td>816</td>\n",
       "    </tr>\n",
       "    <tr>\n",
       "      <th>mean</th>\n",
       "      <td>243847.767826</td>\n",
       "      <td>1985-12-15 23:00:00</td>\n",
       "    </tr>\n",
       "    <tr>\n",
       "      <th>min</th>\n",
       "      <td>156309.000000</td>\n",
       "      <td>1952-01-01 00:00:00</td>\n",
       "    </tr>\n",
       "    <tr>\n",
       "      <th>25%</th>\n",
       "      <td>201725.250000</td>\n",
       "      <td>1968-12-24 06:00:00</td>\n",
       "    </tr>\n",
       "    <tr>\n",
       "      <th>50%</th>\n",
       "      <td>239557.500000</td>\n",
       "      <td>1985-12-16 12:00:00</td>\n",
       "    </tr>\n",
       "    <tr>\n",
       "      <th>75%</th>\n",
       "      <td>289364.250000</td>\n",
       "      <td>2002-12-08 18:00:00</td>\n",
       "    </tr>\n",
       "    <tr>\n",
       "      <th>max</th>\n",
       "      <td>330309.946000</td>\n",
       "      <td>2019-12-01 00:00:00</td>\n",
       "    </tr>\n",
       "    <tr>\n",
       "      <th>std</th>\n",
       "      <td>50519.140567</td>\n",
       "      <td>NaN</td>\n",
       "    </tr>\n",
       "  </tbody>\n",
       "</table>\n",
       "</div>"
      ],
      "text/plain": [
       "          population                 date\n",
       "count     816.000000                  816\n",
       "mean   243847.767826  1985-12-15 23:00:00\n",
       "min    156309.000000  1952-01-01 00:00:00\n",
       "25%    201725.250000  1968-12-24 06:00:00\n",
       "50%    239557.500000  1985-12-16 12:00:00\n",
       "75%    289364.250000  2002-12-08 18:00:00\n",
       "max    330309.946000  2019-12-01 00:00:00\n",
       "std     50519.140567                  NaN"
      ]
     },
     "execution_count": 10,
     "metadata": {},
     "output_type": "execute_result"
    }
   ],
   "source": [
    "df.describe()"
   ]
  },
  {
   "cell_type": "code",
   "execution_count": 11,
   "id": "f71ea242-de8b-425f-86fe-f69acbb9b37c",
   "metadata": {},
   "outputs": [
    {
     "name": "stdout",
     "output_type": "stream",
     "text": [
      "<class 'pandas.core.frame.DataFrame'>\n",
      "RangeIndex: 816 entries, 0 to 815\n",
      "Data columns (total 2 columns):\n",
      " #   Column      Non-Null Count  Dtype         \n",
      "---  ------      --------------  -----         \n",
      " 0   population  816 non-null    float64       \n",
      " 1   date        816 non-null    datetime64[ns]\n",
      "dtypes: datetime64[ns](1), float64(1)\n",
      "memory usage: 12.9 KB\n"
     ]
    }
   ],
   "source": [
    "df.info()"
   ]
  },
  {
   "cell_type": "code",
   "execution_count": 12,
   "id": "72ee07c1-bf42-4c86-8755-e6513ff65d30",
   "metadata": {},
   "outputs": [
    {
     "data": {
      "text/html": [
       "<div>\n",
       "<style scoped>\n",
       "    .dataframe tbody tr th:only-of-type {\n",
       "        vertical-align: middle;\n",
       "    }\n",
       "\n",
       "    .dataframe tbody tr th {\n",
       "        vertical-align: top;\n",
       "    }\n",
       "\n",
       "    .dataframe thead th {\n",
       "        text-align: right;\n",
       "    }\n",
       "</style>\n",
       "<table border=\"1\" class=\"dataframe\">\n",
       "  <thead>\n",
       "    <tr style=\"text-align: right;\">\n",
       "      <th></th>\n",
       "      <th>population</th>\n",
       "    </tr>\n",
       "    <tr>\n",
       "      <th>date</th>\n",
       "      <th></th>\n",
       "    </tr>\n",
       "  </thead>\n",
       "  <tbody>\n",
       "    <tr>\n",
       "      <th>1952-01-01</th>\n",
       "      <td>156309.0</td>\n",
       "    </tr>\n",
       "    <tr>\n",
       "      <th>1952-02-01</th>\n",
       "      <td>156527.0</td>\n",
       "    </tr>\n",
       "    <tr>\n",
       "      <th>1952-03-01</th>\n",
       "      <td>156731.0</td>\n",
       "    </tr>\n",
       "    <tr>\n",
       "      <th>1952-04-01</th>\n",
       "      <td>156943.0</td>\n",
       "    </tr>\n",
       "    <tr>\n",
       "      <th>1952-05-01</th>\n",
       "      <td>157140.0</td>\n",
       "    </tr>\n",
       "  </tbody>\n",
       "</table>\n",
       "</div>"
      ],
      "text/plain": [
       "            population\n",
       "date                  \n",
       "1952-01-01    156309.0\n",
       "1952-02-01    156527.0\n",
       "1952-03-01    156731.0\n",
       "1952-04-01    156943.0\n",
       "1952-05-01    157140.0"
      ]
     },
     "execution_count": 12,
     "metadata": {},
     "output_type": "execute_result"
    }
   ],
   "source": [
    "indexedDataset = df.set_index(['date'])\n",
    "indexedDataset.head(5)"
   ]
  },
  {
   "cell_type": "code",
   "execution_count": 13,
   "id": "0fab2612-a84d-4989-99e4-4f02db7bd386",
   "metadata": {},
   "outputs": [
    {
     "data": {
      "text/plain": [
       "[<matplotlib.lines.Line2D at 0x1e76595c790>]"
      ]
     },
     "execution_count": 13,
     "metadata": {},
     "output_type": "execute_result"
    },
    {
     "data": {
      "image/png": "[encoded data removed]",
      "text/plain": [
       "<Figure size 1000x600 with 1 Axes>"
      ]
     },
     "metadata": {},
     "output_type": "display_data"
    }
   ],
   "source": [
    "plt.xlabel('date')\n",
    "plt.ylabel('population')\n",
    "plt.plot(indexedDataset)"
   ]
  },
  {
   "cell_type": "code",
   "execution_count": 14,
   "id": "46bf5aab-9b1a-4075-b5f7-6f71edf31422",
   "metadata": {},
   "outputs": [
    {
     "name": "stdout",
     "output_type": "stream",
     "text": [
      "               population\n",
      "date                     \n",
      "1952-01-01            NaN\n",
      "1952-02-01            NaN\n",
      "1952-03-01            NaN\n",
      "1952-04-01            NaN\n",
      "1952-05-01            NaN\n",
      "...                   ...\n",
      "2019-08-01  328685.645500\n",
      "2019-09-01  328851.569167\n",
      "2019-10-01  329017.492917\n",
      "2019-11-01  329183.416667\n",
      "2019-12-01  329349.340417\n",
      "\n",
      "[816 rows x 1 columns]             population\n",
      "date                  \n",
      "1952-01-01         NaN\n",
      "1952-02-01         NaN\n",
      "1952-03-01         NaN\n",
      "1952-04-01         NaN\n",
      "1952-05-01         NaN\n",
      "...                ...\n",
      "2019-08-01  565.252176\n",
      "2019-09-01  572.166025\n",
      "2019-10-01  588.374720\n",
      "2019-11-01  606.239425\n",
      "2019-12-01  620.412780\n",
      "\n",
      "[816 rows x 1 columns]\n"
     ]
    }
   ],
   "source": [
    "#Determine rolling statistics\n",
    "rolmean = indexedDataset.rolling(window=12).mean() #window size 12 denotes 12 months, giving rolling mean at yearly level\n",
    "rolstd = indexedDataset.rolling(window=12).std()\n",
    "print(rolmean,rolstd)"
   ]
  },
  {
   "cell_type": "code",
   "execution_count": 15,
   "id": "e63218a4-15b3-4904-936e-59c52d22b10c",
   "metadata": {},
   "outputs": [
    {
     "data": {
      "image/png": "[encoded data removed]",
      "text/plain": [
       "<Figure size 1000x600 with 1 Axes>"
      ]
     },
     "metadata": {},
     "output_type": "display_data"
    }
   ],
   "source": [
    "orig = plt.plot(indexedDataset, color='blue', label='Original')\n",
    "mean = plt.plot(rolmean, color='red', label='Rolling Mean')\n",
    "std = plt.plot(rolstd, color='black', label='Rolling Std')\n",
    "plt.legend(loc='best')\n",
    "plt.title('Rolling Mean & Standard Deviation')\n",
    "plt.show(block=False)"
   ]
  },
  {
   "cell_type": "code",
   "execution_count": 16,
   "id": "5c58efb4-2619-4382-898e-b6fe5c4fcd59",
   "metadata": {},
   "outputs": [
    {
     "name": "stdout",
     "output_type": "stream",
     "text": [
      "Results of Dickey Fuller Test:\n",
      "Test Statistic                  -0.665317\n",
      "p-value                          0.855530\n",
      "#Lags Used                      17.000000\n",
      "Number of Observations Used    798.000000\n",
      "Critical Value (1%)             -3.438571\n",
      "Critical Value (5%)             -2.865169\n",
      "Critical Value (10%)            -2.568702\n",
      "dtype: float64\n"
     ]
    }
   ],
   "source": [
    "#Perform Augmented Dickey–Fuller test:\n",
    "print('Results of Dickey Fuller Test:')\n",
    "dftest = adfuller(indexedDataset['population'], autolag='AIC')\n",
    "\n",
    "dfoutput = pd.Series(dftest[0:4], index=['Test Statistic','p-value','#Lags Used','Number of Observations Used'])\n",
    "for key,value in dftest[4].items():\n",
    "    dfoutput['Critical Value (%s)'%key] = value\n",
    "    \n",
    "print(dfoutput)"
   ]
  },
  {
   "cell_type": "code",
   "execution_count": null,
   "id": "57c0ccfb-9e98-4821-a5dd-b3bca9a4524d",
   "metadata": {},
   "outputs": [],
   "source": []
  }
 ],
 "metadata": {
  "kernelspec": {
   "display_name": "Python 3 (ipykernel)",
   "language": "python",
   "name": "python3"
  },
  "language_info": {
   "codemirror_mode": {
    "name": "ipython",
    "version": 3
   },
   "file_extension": ".py",
   "mimetype": "text/x-python",
   "name": "python",
   "nbconvert_exporter": "python",
   "pygments_lexer": "ipython3",
   "version": "3.11.5"
  }
 },
 "nbformat": 4,
 "nbformat_minor": 5
}
